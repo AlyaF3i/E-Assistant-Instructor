{
 "cells": [
  {
   "cell_type": "code",
   "execution_count": 16,
   "metadata": {},
   "outputs": [],
   "source": [
    "import requests\n",
    "from requests.exceptions import RequestException\n",
    "import re"
   ]
  },
  {
   "cell_type": "code",
   "execution_count": 7,
   "metadata": {},
   "outputs": [],
   "source": [
    "def get_access_token(api_key):\n",
    "    token_url = \"https://iam.cloud.ibm.com/identity/token\"\n",
    "    headers = {\"Content-Type\": \"application/x-www-form-urlencoded\"}\n",
    "    data = {\n",
    "        \"grant_type\": \"urn:ibm:params:oauth:grant-type:apikey\",\n",
    "        \"apikey\": api_key\n",
    "    }\n",
    "    \n",
    "    try:\n",
    "        response = requests.post(token_url, headers=headers, data=data)\n",
    "        response.raise_for_status()\n",
    "        return response.json()[\"access_token\"]\n",
    "    except RequestException as e:\n",
    "        print(f\"Error obtaining access token: {str(e)}\")"
   ]
  },
  {
   "cell_type": "code",
   "execution_count": null,
   "metadata": {},
   "outputs": [],
   "source": [
    "data = {\n",
    "  \"ClassRoomName\": \"Math 101\",\n",
    "  \"Level\": \"Grade 3\",\n",
    "  \"Disability\": \"None\",\n",
    "  \"StudentEmail\": [\"student1@example.com\", \"student2@example.com\"],\n",
    "  \"Subject\": \"Mathematics\",\n",
    "  \"Remark\": \"This is a remark\",\n",
    "  \"NumOfSections\": 10,\n",
    "}\n",
    "\n",
    "level = data['Level']\n",
    "if data['Disability'].lower() == 'no':\n",
    "    disability_prompt = ''\n",
    "else:\n",
    "    disability_prompt = f\" who have {data['Disability']} disability\"\n",
    "subject = data['Subject']\n",
    "num_of_sections = data['NumOfSections']\n",
    "details = data['Remark']\n",
    "\n",
    "prompt = f\"<s> [INST] Generate {num_of_sections} educational sections related to the topic {subject} for {level} students {disability_prompt}. Also make sure the sections focus in the {details} [/INST]\""
   ]
  },
  {
   "cell_type": "code",
   "execution_count": 15,
   "metadata": {},
   "outputs": [],
   "source": [
    "data = {\n",
    "  \"ClassRoomName\": \"رياضيات 101\",\n",
    "  \"Level\": \"الصف الثالث\",\n",
    "  \"Disability\": \"لا يوجد\",\n",
    "  \"StudentEmail\": [\"student1@example.com\", \"student2@example.com\"],\n",
    "  \"Subject\": \"الرياضيات\",\n",
    "  \"Remark\": \"التركيز على الإحصاء\",\n",
    "  \"NumOfSections\": 10,\n",
    "}\n",
    "\n",
    "level = data['Level']\n",
    "if data['Disability'].lower() == 'لا يوجد':\n",
    "    disability_prompt = ''\n",
    "else:\n",
    "    disability_prompt = f\" الذين لديهم إعاقة {data['Disability']}\"\n",
    "subject = data['Subject']\n",
    "num_of_sections = data['NumOfSections']\n",
    "details = data['Remark']\n",
    "\n",
    "prompt = f\"<s> [INST] قم بإنشاء {num_of_sections} أقسام تعليمية مع شرح تفصيلي لكل قسم متعلقة بموضوع {subject} لطلاب {level}{disability_prompt}. تأكد أيضًا من أن الأقسام تركز على {details} [/INST]\"\n"
   ]
  },
  {
   "cell_type": "code",
   "execution_count": 5,
   "metadata": {},
   "outputs": [],
   "source": [
    "\n",
    "num_questions = 5\n",
    "td = {\n",
    "  'Topic': 'جمع البيانات',\n",
    "  'Description': 'علم الطلاب كيفية جمع البيانات بطرق مختلفة مثل الاستبيانات والملاحظات والتجارب. ناقش أهمية جمع البيانات الصحيحة والموثوقة.'\n",
    "}\n",
    "title = td['Topic']\n",
    "description = td['Description']\n",
    "prompt = (\n",
    "        f\"<s> [INST] قم بإنشاء {num_questions} أسئلة بناءً على القسم التالي:\\n\"\n",
    "        f\"العنوان: {title}\\n\"\n",
    "        f\"الوصف: {description}\\n\"\n",
    "        \"يرجى إنشاء الأسئلة بحيث تكون لكل سؤال أربعة اختيارات والجواب الصحيح مع ذكره. [/INST]\"\n",
    "    )"
   ]
  },
  {
   "cell_type": "code",
   "execution_count": 22,
   "metadata": {},
   "outputs": [],
   "source": [
    "import requests\n",
    "\n",
    "url = \"https://eu-de.ml.cloud.ibm.com/ml/v1/text/generation?version=2023-05-29\"\n",
    "\n",
    "body = {\n",
    "\t\"input\": prompt,\n",
    "\t\"parameters\": {\n",
    "\t\t\"decoding_method\": \"greedy\",\n",
    "\t\t\"max_new_tokens\": 900,\n",
    "\t\t\"repetition_penalty\": 1,\n",
    "\t\t\"temprature\": 0\n",
    "\t},\n",
    "\t\"model_id\": \"sdaia/allam-1-13b-instruct\",\n",
    "\t\"project_id\": \"11a9f435-324b-4654-a317-348fbf26c592\"\n",
    "}\n",
    "\n",
    "headers = {\n",
    "\t\"Accept\": \"application/json\",\n",
    "\t\"Content-Type\": \"application/json\",\n",
    "\t\"Authorization\": f\"Bearer {get_access_token('O1ZRniRDHlcM3d-xg9Fxb_lQeE4EAfKTN6hZWmY7n6Q4')}\"\n",
    "}\n",
    "\n",
    "response = requests.post(\n",
    "\turl,\n",
    "\theaders=headers,\n",
    "\tjson=body\n",
    ")\n",
    "\n",
    "if response.status_code != 200:\n",
    "\traise Exception(\"Non-200 response: \" + str(response.text))\n",
    "\n",
    "data = response.json()"
   ]
  },
  {
   "cell_type": "code",
   "execution_count": 23,
   "metadata": {},
   "outputs": [
    {
     "name": "stdout",
     "output_type": "stream",
     "text": [
      " سؤال 1:\n",
      "ما الهدف من تعليم الطلاب كيفية جمع البيانات بطرق مختلفة؟\n",
      " أ. لتعليمهم مهارات التواصل فقط\n",
      " ب. ليتعرفوا على أنواع البيانات المختلفة\n",
      "ج. ليتعلموا كيفية إجراء التجارب والملاحظات\n",
      " د. ليتعلموا فقط عن الاستبيانات\n",
      "\n",
      "الإجابة الصحيحة: ج. ليتعلموا كيفية إجراء التجارب والملاحظات\n",
      "\n",
      "سؤال 2:\n",
      "عند مناقشة جمع البيانات، ما أهمية التركيز على؟\n",
      " أ. جمع البيانات الغير صحيحة والغير موثوقة\n",
      " ب. جمع البيانات الصحيحة والموثوقة\n",
      " ج. تعليم الطلاب كيفية تحليل البيانات فقط\n",
      " د. تعليم الطلاب كيفية تخزين البيانات فقط\n",
      "\n",
      "الإجابة الصحيحة: ب. جمع البيانات الصحيحة والموثوقة\n",
      "\n",
      "سؤال 3:\n",
      "ما هي الطريقة التي يمكن للطلاب استخدامها لجمع البيانات؟\n",
      " أ. المقابلات الشخصية\n",
      " ب. تحليل الصور فقط\n",
      " ج. مراقبة سلوك الحيوانات\n",
      " د. جمع البيانات من الإنترنت فقط\n",
      "\n",
      "الإجابة الصحيحة: أ. المقابلات الشخصية\n",
      "\n",
      "سؤال \n",
      "4:\n",
      "ما هي الطريقة الأخرى لجمع البيانات بجانب الاستبيانات؟\n",
      " أ. إجراء التجارب\n",
      " ب. مراقبة سلوك الحيوانات\n",
      " ج. جمع البيانات من الإنترنت\n",
      " د. تحليل الصور\n",
      "\n",
      "الإجابة الصحيحة: أ. إجراء التجارب\n",
      "\n",
      "سؤال 5:\n",
      "ما هي أهمية تعليم الطلاب عن جمع البيانات الموثوقة؟\n",
      " أ. ليتعلموا كيفية التلاعب بالبيانات\n",
      " ب. ليتعرفوا على أهمية البيانات الموثوقة في الأبحاث\n",
      " ج. ليتعلموا كيفية جمع البيانات بسرورة\n",
      " د. ليتعلموا كيفية تخزين البيانات فقط\n",
      "\n",
      "الإجابة الصحيحة: ب. ليتعرفوا على أهمية البيانات الموثوقة في الأبحاث \n"
     ]
    }
   ],
   "source": [
    "print(data['results'][0]['generated_text'])"
   ]
  },
  {
   "cell_type": "code",
   "execution_count": null,
   "metadata": {},
   "outputs": [],
   "source": []
  },
  {
   "cell_type": "code",
   "execution_count": 18,
   "metadata": {},
   "outputs": [
    {
     "data": {
      "text/plain": [
       "re.compile(r'سؤال\\s\\d:', re.UNICODE)"
      ]
     },
     "execution_count": 18,
     "metadata": {},
     "output_type": "execute_result"
    }
   ],
   "source": []
  },
  {
   "cell_type": "code",
   "execution_count": 20,
   "metadata": {},
   "outputs": [
    {
     "data": {
      "text/plain": [
       "<re.Match object; span=(0, 7), match='سؤال 1:'>"
      ]
     },
     "execution_count": 20,
     "metadata": {},
     "output_type": "execute_result"
    }
   ],
   "source": [
    "re.fullmatch(re.compile('سؤال\\s\\d:'), ' سؤال 1:'.strip())"
   ]
  },
  {
   "cell_type": "code",
   "execution_count": 26,
   "metadata": {},
   "outputs": [
    {
     "name": "stdout",
     "output_type": "stream",
     "text": [
      "match 0\n",
      "match 7\n",
      "match 14\n",
      "match 29\n"
     ]
    }
   ],
   "source": [
    "text = data['results'][0]['generated_text']\n",
    "lines = [l.strip() for l  in text.split(\"\\n\") if l]\n",
    "num_of_lines = len(lines)\n",
    "i = 0\n",
    "init_question_pattern = re.compile('سؤال\\s\\d:', flags = 'i')\n",
    "for i, line in enumerate(lines):\n",
    "    if re.fullmatch(init_question_pattern, line):\n",
    "        print('match', i)"
   ]
  },
  {
   "cell_type": "code",
   "execution_count": 29,
   "metadata": {},
   "outputs": [],
   "source": [
    "with open('checkoutput.txt', 'w', encoding = 'UTF-8') as fp:\n",
    "    fp.write(text)"
   ]
  },
  {
   "cell_type": "code",
   "execution_count": 61,
   "metadata": {},
   "outputs": [
    {
     "data": {
      "text/plain": [
       "[(0, 7), (275, 282), (545, 552), (750, 758), (938, 945)]"
      ]
     },
     "execution_count": 61,
     "metadata": {},
     "output_type": "execute_result"
    }
   ],
   "source": [
    "\n",
    "[z.span() for z in re.finditer(init_question_pattern, text.strip())]"
   ]
  },
  {
   "cell_type": "code",
   "execution_count": 57,
   "metadata": {},
   "outputs": [],
   "source": []
  },
  {
   "cell_type": "code",
   "execution_count": 82,
   "metadata": {},
   "outputs": [
    {
     "name": "stdout",
     "output_type": "stream",
     "text": [
      "[{'Answer': ': ج',\n",
      "  'Option1': 'لتعليمهم مهارات التواصل فقط',\n",
      "  'Option2': 'ليتعرفوا على أنواع البيانات المختلفة',\n",
      "  'Option3': 'ليتعلموا كيفية إجراء التجارب والملاحظات',\n",
      "  'Option4': 'ليتعلموا فقط عن الاستبيانات',\n",
      "  'Question': 'ما الهدف من تعليم الطلاب كيفية جمع البيانات بطرق مختلفة؟'},\n",
      " {'Answer': ': ب',\n",
      "  'Option1': 'جمع البيانات الغير صحيحة والغير موثوقة',\n",
      "  'Option2': 'جمع البيانات الصحيحة والموثوقة',\n",
      "  'Option3': 'تعليم الطلاب كيفية تحليل البيانات فقط',\n",
      "  'Option4': 'تعليم الطلاب كيفية تخزين البيانات فقط',\n",
      "  'Question': 'عند مناقشة جمع البيانات، ما أهمية التركيز على؟'},\n",
      " {'Answer': ': أ',\n",
      "  'Option1': 'المقابلات الشخصية',\n",
      "  'Option2': 'تحليل الصور فقط',\n",
      "  'Option3': 'مراقبة سلوك الحيوانات',\n",
      "  'Option4': 'جمع البيانات من الإنترنت فقط',\n",
      "  'Question': 'ما هي الطريقة التي يمكن للطلاب استخدامها لجمع البيانات؟'},\n",
      " {'Answer': ': أ',\n",
      "  'Option1': 'إجراء التجارب',\n",
      "  'Option2': 'مراقبة سلوك الحيوانات',\n",
      "  'Option3': 'جمع البيانات من الإنترنت',\n",
      "  'Option4': 'تحليل الصور',\n",
      "  'Question': 'ما هي الطريقة الأخرى لجمع البيانات بجانب الاستبيانات؟'},\n",
      " {'Answer': ': ب',\n",
      "  'Option1': 'ليتعلموا كيفية التلاعب بالبيانات',\n",
      "  'Option2': 'ليتعرفوا على أهمية البيانات الموثوقة في الأبحاث',\n",
      "  'Option3': 'ليتعلموا كيفية جمع البيانات بسرورة',\n",
      "  'Option4': 'ليتعلموا كيفية تخزين البيانات فقط',\n",
      "  'Question': 'ما هي أهمية تعليم الطلاب عن جمع البيانات الموثوقة؟'}]\n"
     ]
    }
   ],
   "source": [
    "text = data['results'][0]['generated_text']\n",
    "init_question_pattern = re.compile('سؤال\\s+\\d+:', flags = re.MULTILINE)\n",
    "indices = [z.span() for z in re.finditer(init_question_pattern, text.strip())]\n",
    "all_questions = list()\n",
    "for i, span in enumerate(indices):\n",
    "    start, end = span\n",
    "    nstart = len(text) if i + 1 == len(indices) else indices[i + 1][0]\n",
    "    q_number = re.findall('\\d+', text[start:end])[0]\n",
    "    lines = [l.strip() for l in text[end + 1: nstart].strip().split('\\n') if l]\n",
    "    question = lines[0]\n",
    "    option_1 = lines[1].replace(\"أ.\", \"\").strip()\n",
    "    option_2 = lines[2].replace(\"ب.\", \"\").strip()\n",
    "    option_3 = lines[3].replace(\"ج.\", \"\").strip()\n",
    "    option_4 = lines[4].replace(\"د.\", \"\").strip()\n",
    "    answer = lines[5][lines[5].index(\":\"):lines[5].index(\".\")].strip()\n",
    "    output_dict = {\n",
    "        \"Question\" : question,\n",
    "        \"Option1\" : option_1,\n",
    "        \"Option2\" : option_2,\n",
    "        \"Option3\" : option_3,\n",
    "        \"Option4\" : option_4,\n",
    "        \"Answer\" : answer\n",
    "    }\n",
    "    all_questions.append(output_dict)\n",
    "all_questions"
   ]
  },
  {
   "cell_type": "code",
   "execution_count": 79,
   "metadata": {},
   "outputs": [],
   "source": [
    "from pprint import pprint"
   ]
  },
  {
   "cell_type": "code",
   "execution_count": 51,
   "metadata": {},
   "outputs": [
    {
     "data": {
      "text/plain": [
       "' سؤال 1:\\nما الهدف من تعليم الطلاب كيفية جمع البيانات بطرق مختلفة؟\\n أ. لتعليمهم مهارات التواصل فقط\\n ب. ليتعرفوا على أنواع البيانات المختلفة\\nج. ليتعلموا كيفية إجراء التجارب والملاحظات\\n د. ليتعلموا فقط عن الاستبيانات\\n\\nالإجابة الصحيحة: ج. ليتعلموا كيفية إجراء التجارب والملاحظات\\n'"
      ]
     },
     "execution_count": 51,
     "metadata": {},
     "output_type": "execute_result"
    }
   ],
   "source": [
    "text[0:275]"
   ]
  },
  {
   "cell_type": "code",
   "execution_count": 19,
   "metadata": {},
   "outputs": [],
   "source": [
    "resp = data['results'][0]['generated_text']"
   ]
  },
  {
   "cell_type": "code",
   "execution_count": 24,
   "metadata": {},
   "outputs": [],
   "source": [
    "def get_first_index(lines, prefix = '1.'):\n",
    "    i = 0\n",
    "    while i < len(lines):\n",
    "        if lines[i].startswith(prefix):\n",
    "            return i\n",
    "        i += 1\n",
    "    return -1"
   ]
  },
  {
   "cell_type": "code",
   "execution_count": null,
   "metadata": {},
   "outputs": [],
   "source": [
    "import re"
   ]
  },
  {
   "cell_type": "code",
   "execution_count": 40,
   "metadata": {},
   "outputs": [],
   "source": [
    "def section_line_to_dict(line):\n",
    "    pattern = r\"\\d*\\.\\s*\\*\\*(.*?)\\*\\*: (.+)\"\n",
    "    match = re.search(pattern, line)\n",
    "    if match:\n",
    "        topic = match.group(1)\n",
    "        description = match.group(2)\n",
    "        return {\n",
    "            \"Topic\": topic,\n",
    "            \"Description\": description\n",
    "        }"
   ]
  },
  {
   "cell_type": "code",
   "execution_count": 41,
   "metadata": {},
   "outputs": [],
   "source": [
    "lines = [a for a in resp.split('\\n') if a]\n",
    "first_index = get_first_index(lines)\n",
    "last_index = get_first_index(lines, f'{num_of_sections}.')\n",
    "lines = lines[first_index:last_index + 1]\n",
    "sections = list(map(section_line_to_dict, lines))\n"
   ]
  },
  {
   "cell_type": "code",
   "execution_count": 42,
   "metadata": {},
   "outputs": [
    {
     "data": {
      "text/plain": [
       "[{'Topic': 'مقدمة عن الإحصاء',\n",
       "  'Description': 'ابدأ بتعريف الإحصاء وأهميته في حياتنا اليومية. اشرح للطلاب كيف نستخدم الإحصاء لفهم البيانات واتخاذ القرارات.'},\n",
       " {'Topic': 'جمع البيانات',\n",
       "  'Description': 'علم الطلاب كيفية جمع البيانات بطرق مختلفة مثل الاستبيانات والملاحظات والتجارب. ناقش أهمية جمع البيانات الصحيحة والموثوقة.'},\n",
       " {'Topic': 'تمثيل البيانات',\n",
       "  'Description': 'عرّف الطلاب على طرق تمثيل البيانات بصرياً مثل الرسوم البيانية والجداول والمخططات. اشرح كيف يساعد ذلك في فهم البيانات بسهولة.'},\n",
       " {'Topic': 'الوسط الحسابي',\n",
       "  'Description': 'قدّم مفهوم الوسط الحسابي (المتوسط) وكيف يتم حسابه لمجموعة من الأرقام. اشرح أهمية هذا المفهوم في الإحصاء.'},\n",
       " {'Topic': 'الترددات والتوزيعات',\n",
       "  'Description': 'علّم الطلاب كيفية حساب الترددات والتوزيعات للبيانات. ناقش كيف يمكن استخدام هذه المعلومات لفهم البيانات واتخاذ القرارات.'},\n",
       " {'Topic': 'الترتيب والتصنيف',\n",
       "  'Description': 'عرّف الطلاب على ترتيب البيانات وتصنيفها بناءً على معايير معينة. اشرح كيف يساعد ذلك في تحليل البيانات وفهمها.'},\n",
       " {'Topic': 'الاحتمالات',\n",
       "  'Description': 'قدّم مفهوم الاحتمالات وكيف يتم حسابها. اشرح كيف يمكن استخدام الاحتمالات لتوقع النتائج واتخاذ القرارات.'},\n",
       " {'Topic': 'الرسوم البيانية والجداول',\n",
       "  'Description': 'علّم الطلاب كيفية إنشاء الرسوم البيانية والجداول لتمثيل البيانات بشكل واضح ومفهوم. ناقش أهمية استخدام الرسوم البيانية والجداول في تحليل البيانات.'},\n",
       " {'Topic': 'التحليل الإحصائي',\n",
       "  'Description': 'عرّف الطلاب على مفهوم التحليل الإحصائي وكيف يمكن استخدامه لاستخلاص النتائج واتخاذ القرارات بناءً على البيانات.'},\n",
       " {'Topic': 'تطبيق الإحصاء في الحياة اليومية',\n",
       "  'Description': 'قدّم أمثلة عملية على استخدام الإحصاء في الحياة اليومية، مثل تحليل نتائج المباريات الرياضية أو فهم سلوك المستهلكين.'}]"
      ]
     },
     "execution_count": 42,
     "metadata": {},
     "output_type": "execute_result"
    }
   ],
   "source": [
    "sections"
   ]
  },
  {
   "cell_type": "code",
   "execution_count": 32,
   "metadata": {},
   "outputs": [],
   "source": []
  },
  {
   "cell_type": "code",
   "execution_count": 38,
   "metadata": {},
   "outputs": [
    {
     "data": {
      "text/plain": [
       "'1. **مقدمة عن الإحصاء**: ابدأ بتعريف الإحصاء وأهميته في حياتنا اليومية. اشرح للطلاب كيف نستخدم الإحصاء لفهم البيانات واتخاذ القرارات.'"
      ]
     },
     "execution_count": 38,
     "metadata": {},
     "output_type": "execute_result"
    }
   ],
   "source": [
    "lines[0]"
   ]
  },
  {
   "cell_type": "code",
   "execution_count": 39,
   "metadata": {},
   "outputs": [
    {
     "name": "stdout",
     "output_type": "stream",
     "text": [
      "Topic: مقدمة عن الإحصاء\n",
      "Description: ابدأ بتعريف الإحصاء وأهميته في حياتنا اليومية. اشرح للطلاب كيف نستخدم الإحصاء لفهم البيانات واتخاذ القرارات.\n"
     ]
    }
   ],
   "source": []
  },
  {
   "cell_type": "code",
   "execution_count": null,
   "metadata": {},
   "outputs": [],
   "source": [
    "given the following sections : [{', '.join(sub_sections_list)}]"
   ]
  },
  {
   "cell_type": "code",
   "execution_count": 35,
   "metadata": {},
   "outputs": [],
   "source": [
    "sub_sections = \"\"\" Basic Principles of Division\n",
    "Dividing Integers and Rational Numbers\n",
    "Exponents and Division\n",
    "Algebraic Division\n",
    "Word Problems Involving Division\n",
    "EndOfText\n",
    "\n",
    "Section: fractions\n",
    "Sub sections: Basic Principles of Fractions\n",
    "Adding and Subtracting Fractions\n",
    "Multiplying Fractions\n",
    "Dividing Fractions\n",
    "Word Problems Involving Fractions\n",
    "EndOfText\n",
    "\n",
    "Section: geometry\n",
    "Sub sections: Basic Principles of Geometry\n",
    "Points, Lines, and Angles\n",
    "Perimeter and Area\n",
    "Volume and Surface Area\n",
    "Word Problems Involving Geometry\n",
    "EndOfText\"\"\".strip().split(\"EndOfText\")[0].strip().split('\\n')"
   ]
  },
  {
   "cell_type": "code",
   "execution_count": 36,
   "metadata": {},
   "outputs": [
    {
     "data": {
      "text/plain": [
       "['Basic Principles of Division',\n",
       " 'Dividing Integers and Rational Numbers',\n",
       " 'Exponents and Division',\n",
       " 'Algebraic Division',\n",
       " 'Word Problems Involving Division']"
      ]
     },
     "execution_count": 36,
     "metadata": {},
     "output_type": "execute_result"
    }
   ],
   "source": [
    "sub_sections"
   ]
  },
  {
   "cell_type": "code",
   "execution_count": null,
   "metadata": {},
   "outputs": [],
   "source": [
    "- prompt to get sub_sections\n",
    "- description for each sub-sections يا رسالة وحده للمودل يا كل سب سيكشن رسالة لوحده"
   ]
  },
  {
   "cell_type": "code",
   "execution_count": 59,
   "metadata": {},
   "outputs": [],
   "source": [
    "import os\n",
    "import django\n",
    "from pathlib import Path\n",
    "from asgiref.sync import sync_to_async\n",
    "# Set the Django settings module\n",
    "import asyncio\n",
    "\n",
    "os.environ.setdefault('DJANGO_SETTINGS_MODULE', 'study_plan.settings')\n",
    "django.setup()"
   ]
  },
  {
   "cell_type": "code",
   "execution_count": 55,
   "metadata": {},
   "outputs": [],
   "source": [
    "from classroom.email_utils import send_quiz_assignment  # Adjust the import path based on your project structure\n"
   ]
  },
  {
   "cell_type": "code",
   "execution_count": 56,
   "metadata": {},
   "outputs": [],
   "source": [
    "emails = [\n",
    "    'alyaf3i1118@gmail.com'\n",
    "]"
   ]
  },
  {
   "cell_type": "code",
   "execution_count": 57,
   "metadata": {},
   "outputs": [],
   "source": [
    "await send_quiz_assignment(emails, is_quiz=True, exam_url='http://example.com')"
   ]
  },
  {
   "cell_type": "code",
   "execution_count": 60,
   "metadata": {},
   "outputs": [
    {
     "name": "stdout",
     "output_type": "stream",
     "text": [
      "Hello\n"
     ]
    }
   ],
   "source": [
    "asyncio.create_task(send_quiz_assignment(emails, is_quiz=True, exam_url='http://example.com'))\n",
    "print(\"Hello\")"
   ]
  },
  {
   "cell_type": "code",
   "execution_count": null,
   "metadata": {},
   "outputs": [],
   "source": [
    "{\n",
    "    \"emails\" : [\n",
    "        \"alyaf3i1118@gmail.com\"\n",
    "    ]\n",
    "}"
   ]
  },
  {
   "cell_type": "markdown",
   "metadata": {},
   "source": [
    "# Test Get Sections"
   ]
  },
  {
   "cell_type": "code",
   "execution_count": 1,
   "metadata": {},
   "outputs": [],
   "source": [
    "a = {'model_id': 'sdaia/allam-1-13b-instruct', 'created_at': '2024-10-12T15:35:05.214Z', 'results': [{'generated_text': ' في هذا الموضوع، سأقوم بإنشاء ثلاثة أقسام تعليمية تركز على تعليم أساسيات تطوير تطبيقات الويب باستخدام React لطلاب الصف الثاني عشر الذين يعانون من صعوبات تعلمية. سأحرص على تبسيط المفاهيم وتقديم شروحات مفصلة وواضحة.\\n\\nالقسم الأول: مقدمة عن React\\n\\n1.1 تعريف React:\\n   - شرح مفهوم React كأداة تطوير ويب مفتوحة المصدر تم تطويرها بواسطة Facebook.\\n   - توضيح أن React يُستخدم لبناء واجهات المستخدم (UI) وتطبيقات الويب التفاعلية.\\n\\n1.2 مكونات React:\\n   - شرح مفهوم المكونات (Components) في React وكيفية استخدامها لتنظيم واجهةة المستخدم.\\n   - توضيح كيفية إنشاء مكونات بسيطة واستخدامها في تطبيق React.\\n\\n1\\n3.3 JSX:\\n   - تعريف JSX (JavaScript XML) وكيفية استخدامه لكتابة كود React.\\n   - توضيح كيفية استخدام JSX لإنشاء عناصر واجهة المستخدم والتعامل مع الأحداث.\\n\\nالقسم الثاني: بناء تطبيق React بسيط\\n\\n2.1 إنشاء مشروع React جديد:\\n   - شرح كيفية إنشاء مشروع React جديد باستخدام أدوات مثل Create React App أو Visual Studio Code.\\n   - توضيح كيفية تثبيت الحزم اللازمة وإعداد بيئة التطوير.\\n\\n2.2 مكونات React:\\n   - شرح كيفية إنشاء مكونات جديدة واستخدامها في تطبيق React.\\n   - توضيح كيفية تمرير البيانات بين المكونات والتعامل مع الأحداث.\\n\\n2.3 تقديم البيانات:\\n   - شرح مفهوم تقديم البيانات (Rendering) في React وكيفية تحديث واجهة المستخدم بناءً على البيانات.\\n  \\nالقسم الثالث: تحسين تجربة المستخدم والتفاعل مع React\\n\\n3.1 الحالة (State) والخصائص (Props):\\n   - شرح مفهوم الحالة والخصائص في React وكيفيية استخدامها لإدارة البيانات داخل المكونات.\\n   - توضيح كيفية تحديث الحالة والخصائص والتعامل مع التغييرات.\\n\\n3.2 دورة حياة المكونات (Component Lifecycle):\\n   - شرح دورة حياة المكونات في React وكيفية التعامل مع الأحداث المختلفة خلال هذه الدورة.\\n   - توضيح كيفية استخدام طرق مثل `componentDidMount` و`shouldComponentUpdate` لتحسين أداء التطبيق.\\n\\n3.3 التوجيه (Routing) والتفاعل مع المستخدم:\\n   - شرح مفهوم التوجيه في React وكيفية استخدامه لإنشاء تطبيقات متعددة الصفحات.\\n   - توضيح كيفية التعامل مع تفاعلات المستخدم مثل النقر على الروابط والأزرار وتحديث واجهة المستخدم بناءً على ذلك.\\n\\nفي كل قسم، سأقدم أمثلة عملية وشروحات مبسطة لمساعدة الطلاب على فهم المفااهيم وتطبيقها بشكل فعّال. إذا كنت بحاجة إلى مزيد من التفاصيل أو المساعدة في موضوعات أخرى، لا تتردد في طرح الأسئلة. ', 'generated_token_count': 505, 'input_token_count': 41, 'stop_reason': 'eos_token'}], 'system': {'warninngs': [{'message': 'This model is a Non-IBM Product governed by a third-party license that may impose use restrictions and other obligations. By using this model you agree to its terms as identified in the following URL.', 'id': 'disclaimer_warning', 'more_info': 'https://dataplatform.cloud.ibm.com/docs/content/wsj/analyze-data/fm-models.html?context=wx'}]}}\n"
   ]
  },
  {
   "cell_type": "code",
   "execution_count": 2,
   "metadata": {},
   "outputs": [],
   "source": [
    "resp = a['results'][0]['generated_text']"
   ]
  },
  {
   "cell_type": "markdown",
   "metadata": {},
   "source": []
  },
  {
   "cell_type": "code",
   "execution_count": 4,
   "metadata": {},
   "outputs": [
    {
     "name": "stdout",
     "output_type": "stream",
     "text": [
      " في هذا الموضوع، سأقوم بإنشاء ثلاثة أقسام تعليمية تركز على تعليم أساسيات تطوير تطبيقات الويب باستخدام React لطلاب الصف الثاني عشر الذين يعانون من صعوبات تعلمية. سأحرص على تبسيط المفاهيم وتقديم شروحات مفصلة وواضحة.\n",
      "\n",
      "القسم الأول: مقدمة عن React\n",
      "\n",
      "1.1 تعريف React:\n",
      "   - شرح مفهوم React كأداة تطوير ويب مفتوحة المصدر تم تطويرها بواسطة Facebook.\n",
      "   - توضيح أن React يُستخدم لبناء واجهات المستخدم (UI) وتطبيقات الويب التفاعلية.\n",
      "\n",
      "1.2 مكونات React:\n",
      "   - شرح مفهوم المكونات (Components) في React وكيفية استخدامها لتنظيم واجهةة المستخدم.\n",
      "   - توضيح كيفية إنشاء مكونات بسيطة واستخدامها في تطبيق React.\n",
      "\n",
      "1\n",
      "3.3 JSX:\n",
      "   - تعريف JSX (JavaScript XML) وكيفية استخدامه لكتابة كود React.\n",
      "   - توضيح كيفية استخدام JSX لإنشاء عناصر واجهة المستخدم والتعامل مع الأحداث.\n",
      "\n",
      "القسم الثاني: بناء تطبيق React بسيط\n",
      "\n",
      "2.1 إنشاء مشروع React جديد:\n",
      "   - شرح كيفية إنشاء مشروع React جديد باستخدام أدوات مثل Create React App أو Visual Studio Code.\n",
      "   - توضيح كيفية تثبيت الحزم اللازمة وإعداد بيئة التطوير.\n",
      "\n",
      "2.2 مكونات React:\n",
      "   - شرح كيفية إنشاء مكونات جديدة واستخدامها في تطبيق React.\n",
      "   - توضيح كيفية تمرير البيانات بين المكونات والتعامل مع الأحداث.\n",
      "\n",
      "2.3 تقديم البيانات:\n",
      "   - شرح مفهوم تقديم البيانات (Rendering) في React وكيفية تحديث واجهة المستخدم بناءً على البيانات.\n",
      "  \n",
      "القسم الثالث: تحسين تجربة المستخدم والتفاعل مع React\n",
      "\n",
      "3.1 الحالة (State) والخصائص (Props):\n",
      "   - شرح مفهوم الحالة والخصائص في React وكيفيية استخدامها لإدارة البيانات داخل المكونات.\n",
      "   - توضيح كيفية تحديث الحالة والخصائص والتعامل مع التغييرات.\n",
      "\n",
      "3.2 دورة حياة المكونات (Component Lifecycle):\n",
      "   - شرح دورة حياة المكونات في React وكيفية التعامل مع الأحداث المختلفة خلال هذه الدورة.\n",
      "   - توضيح كيفية استخدام طرق مثل `componentDidMount` و`shouldComponentUpdate` لتحسين أداء التطبيق.\n",
      "\n",
      "3.3 التوجيه (Routing) والتفاعل مع المستخدم:\n",
      "   - شرح مفهوم التوجيه في React وكيفية استخدامه لإنشاء تطبيقات متعددة الصفحات.\n",
      "   - توضيح كيفية التعامل مع تفاعلات المستخدم مثل النقر على الروابط والأزرار وتحديث واجهة المستخدم بناءً على ذلك.\n",
      "\n",
      "في كل قسم، سأقدم أمثلة عملية وشروحات مبسطة لمساعدة الطلاب على فهم المفااهيم وتطبيقها بشكل فعّال. إذا كنت بحاجة إلى مزيد من التفاصيل أو المساعدة في موضوعات أخرى، لا تتردد في طرح الأسئلة. \n"
     ]
    }
   ],
   "source": [
    "def get_sections(data, *args, **kwargs):\n",
    "    return [\n",
    "        {\n",
    "            \"Topic\" : f\"Problem {i + 1}\",\n",
    "            \"Description\" : f\"Description {i + 1}\"\n",
    "        }\n",
    "        for i in range(len(data['NumOfSections']))\n",
    "    ]"
   ]
  },
  {
   "cell_type": "code",
   "execution_count": null,
   "metadata": {},
   "outputs": [],
   "source": []
  }
 ],
 "metadata": {
  "kernelspec": {
   "display_name": "Python 3",
   "language": "python",
   "name": "python3"
  },
  "language_info": {
   "codemirror_mode": {
    "name": "ipython",
    "version": 3
   },
   "file_extension": ".py",
   "mimetype": "text/x-python",
   "name": "python",
   "nbconvert_exporter": "python",
   "pygments_lexer": "ipython3",
   "version": "3.10.14"
  }
 },
 "nbformat": 4,
 "nbformat_minor": 2
}
